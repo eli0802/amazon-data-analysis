{
 "cells": [
  {
   "cell_type": "markdown",
   "id": "11941f06-0d49-450c-9584-1e88790e3955",
   "metadata": {},
   "source": [
    "# Exploratory Data Analysis and Data Cleaning"
   ]
  },
  {
   "cell_type": "code",
   "execution_count": 2,
   "id": "b54dfec0",
   "metadata": {},
   "outputs": [],
   "source": [
    "#Importing libraries \n",
    "import pandas as pd\n",
    "import matplotlib.pyplot as plt\n",
    "import numpy as np\n",
    "from scipy import stats\n",
    "\n",
    "#Setting default options for the whole notebook\n",
    "pd.set_option('display.max_rows', 500)\n",
    "pd.set_option('display.max_columns', 500)\n",
    "pd.set_option('display.width', 5000)\n",
    "pd.set_option('mode.chained_assignment', None)"
   ]
  },
  {
   "cell_type": "code",
   "execution_count": 3,
   "id": "6aabb5e1",
   "metadata": {},
   "outputs": [],
   "source": [
    "#Creating a df from JSON format data \n",
    "df_elec = pd.read_json('amazon_electronics.ldjson', lines=True)"
   ]
  },
  {
   "cell_type": "markdown",
   "id": "7a36cc32-808b-4baf-9330-a4dc3492b7d3",
   "metadata": {},
   "source": [
    "### Exploring the basic details about the df"
   ]
  },
  {
   "cell_type": "code",
   "execution_count": 4,
   "id": "43916784",
   "metadata": {},
   "outputs": [
    {
     "data": {
      "text/html": [
       "<div>\n",
       "<style scoped>\n",
       "    .dataframe tbody tr th:only-of-type {\n",
       "        vertical-align: middle;\n",
       "    }\n",
       "\n",
       "    .dataframe tbody tr th {\n",
       "        vertical-align: top;\n",
       "    }\n",
       "\n",
       "    .dataframe thead th {\n",
       "        text-align: right;\n",
       "    }\n",
       "</style>\n",
       "<table border=\"1\" class=\"dataframe\">\n",
       "  <thead>\n",
       "    <tr style=\"text-align: right;\">\n",
       "      <th></th>\n",
       "      <th>uniq_id</th>\n",
       "      <th>crawl_timestamp</th>\n",
       "      <th>asin</th>\n",
       "      <th>product_url</th>\n",
       "      <th>product_name</th>\n",
       "      <th>image_urls__small</th>\n",
       "      <th>medium</th>\n",
       "      <th>large</th>\n",
       "      <th>browsenode</th>\n",
       "      <th>seller_name</th>\n",
       "      <th>seller_id</th>\n",
       "      <th>brand</th>\n",
       "      <th>sales_price</th>\n",
       "      <th>discount_percentage</th>\n",
       "      <th>weight</th>\n",
       "      <th>rating</th>\n",
       "      <th>sales_rank_in_parent_category</th>\n",
       "      <th>delivery_type</th>\n",
       "      <th>meta_keywords</th>\n",
       "      <th>amazon_prime__y_or_n</th>\n",
       "      <th>parent___child_category__all</th>\n",
       "      <th>best_seller_tag__y_or_n</th>\n",
       "      <th>other_items_customers_buy</th>\n",
       "      <th>technical_details__k_v_pairs</th>\n",
       "      <th>colour</th>\n",
       "      <th>no__of_reviews</th>\n",
       "      <th>no__of_offers</th>\n",
       "      <th>no__of_sellers</th>\n",
       "      <th>sales_rank_in_child_category</th>\n",
       "      <th>product_details__k_v_pairs</th>\n",
       "      <th>Number_Of_Items</th>\n",
       "      <th>Batteries_Included</th>\n",
       "      <th>Batteries_Required</th>\n",
       "      <th>Material</th>\n",
       "      <th>Form_Factor</th>\n",
       "      <th>left_in_stock</th>\n",
       "    </tr>\n",
       "  </thead>\n",
       "  <tbody>\n",
       "    <tr>\n",
       "      <th>0</th>\n",
       "      <td>8258a459bf720ac86b8bc2d214346c35</td>\n",
       "      <td>2020-02-06 19:30:06 +0000</td>\n",
       "      <td>B07652FT69</td>\n",
       "      <td>https://www.amazon.in/Cazcase-Pattern-Smart-Co...</td>\n",
       "      <td>Cazcase Deer Pattern Smart Case Cover Flip Sta...</td>\n",
       "      <td>https://images-na.ssl-images-amazon.com/images...</td>\n",
       "      <td>https://images-na.ssl-images-amazon.com/images...</td>\n",
       "      <td>https://images-na.ssl-images-amazon.com/images...</td>\n",
       "      <td>1375329031</td>\n",
       "      <td>E Shop Solution</td>\n",
       "      <td>A3BZXLJLCY3NHJ</td>\n",
       "      <td>CAZCASE</td>\n",
       "      <td>699.0</td>\n",
       "      <td>46%</td>\n",
       "      <td>308 g</td>\n",
       "      <td>3.8</td>\n",
       "      <td>{'ComputersAccessories': 'Amazon Bestsellers R...</td>\n",
       "      <td>fulfilled_by_amazon</td>\n",
       "      <td>Cazcase Deer Pattern Smart Case Cover Flip Sta...</td>\n",
       "      <td>Y</td>\n",
       "      <td>{'ComputersAccessories': 'Amazon Bestsellers R...</td>\n",
       "      <td>N</td>\n",
       "      <td>ProElite Smart Deer Flip case Cover for Apple ...</td>\n",
       "      <td>{'Brand': 'CAZCASE', 'Colour': 'browm', 'Item_...</td>\n",
       "      <td>NaN</td>\n",
       "      <td>NaN</td>\n",
       "      <td>NaN</td>\n",
       "      <td>NaN</td>\n",
       "      <td>NaN</td>\n",
       "      <td>NaN</td>\n",
       "      <td>NaN</td>\n",
       "      <td>NaN</td>\n",
       "      <td>NaN</td>\n",
       "      <td>NaN</td>\n",
       "      <td>NaN</td>\n",
       "      <td>NaN</td>\n",
       "    </tr>\n",
       "    <tr>\n",
       "      <th>1</th>\n",
       "      <td>8610899e786315b1adad872764f424b0</td>\n",
       "      <td>2020-02-07 00:20:04 +0000</td>\n",
       "      <td>B07TMCY7WN</td>\n",
       "      <td>https://www.amazon.in/D-kandy-Gionee-A1-Lite-M...</td>\n",
       "      <td>D-kandy for Gionee A1 Lite, Fashion Series Lea...</td>\n",
       "      <td>https://images-na.ssl-images-amazon.com/images...</td>\n",
       "      <td>https://images-na.ssl-images-amazon.com/images...</td>\n",
       "      <td>NaN</td>\n",
       "      <td>1389409031</td>\n",
       "      <td>SHIV DURGA ENTERPRISES</td>\n",
       "      <td>A2SD7UGM4EQIRK</td>\n",
       "      <td>D-kandy</td>\n",
       "      <td>699.0</td>\n",
       "      <td>46%</td>\n",
       "      <td>81.6 g</td>\n",
       "      <td>4.6</td>\n",
       "      <td>NaN</td>\n",
       "      <td>fulfilled_by_merchant</td>\n",
       "      <td>D-kandy for Gionee A1 Lite, Fashion Series Lea...</td>\n",
       "      <td>Y</td>\n",
       "      <td>NaN</td>\n",
       "      <td>N</td>\n",
       "      <td>NaN</td>\n",
       "      <td>{'Brand': 'D-kandy', 'Model': 'Gionee A1 Lite'...</td>\n",
       "      <td>Blue|Cloth BLUE|Cloth Grey|Customised Black|Fa...</td>\n",
       "      <td>NaN</td>\n",
       "      <td>NaN</td>\n",
       "      <td>NaN</td>\n",
       "      <td>NaN</td>\n",
       "      <td>NaN</td>\n",
       "      <td>NaN</td>\n",
       "      <td>NaN</td>\n",
       "      <td>NaN</td>\n",
       "      <td>NaN</td>\n",
       "      <td>NaN</td>\n",
       "      <td>NaN</td>\n",
       "    </tr>\n",
       "    <tr>\n",
       "      <th>2</th>\n",
       "      <td>1b0e4aa1d0cd635e2366558512ccc067</td>\n",
       "      <td>2020-02-06 19:59:39 +0000</td>\n",
       "      <td>B079VL519L</td>\n",
       "      <td>https://www.amazon.in/Heartly-Lenovo-A6600-Spi...</td>\n",
       "      <td>Heartly Kickstand Hard Dual Rugged Armor Hybri...</td>\n",
       "      <td>https://images-na.ssl-images-amazon.com/images...</td>\n",
       "      <td>https://images-na.ssl-images-amazon.com/images...</td>\n",
       "      <td>https://images-na.ssl-images-amazon.com/images...</td>\n",
       "      <td>1389409031</td>\n",
       "      <td>Ruh International</td>\n",
       "      <td>A1TOV1MNM33TCG</td>\n",
       "      <td>Heartly</td>\n",
       "      <td>299.0</td>\n",
       "      <td>77%</td>\n",
       "      <td>49.9 g</td>\n",
       "      <td>4.6</td>\n",
       "      <td>{'Electronics': 'Amazon Bestsellers Rank #6,98...</td>\n",
       "      <td>fulfilled_by_amazon</td>\n",
       "      <td>Heartly Kickstand Hard Dual Rugged Armor Hybri...</td>\n",
       "      <td>Y</td>\n",
       "      <td>{'Electronics': 'Amazon Bestsellers Rank #6,98...</td>\n",
       "      <td>N</td>\n",
       "      <td>NaN</td>\n",
       "      <td>{'Brand': 'Heartly', 'Model': 'For Lenovo A660...</td>\n",
       "      <td>Best Black|Power Blue</td>\n",
       "      <td>NaN</td>\n",
       "      <td>NaN</td>\n",
       "      <td>NaN</td>\n",
       "      <td>NaN</td>\n",
       "      <td>NaN</td>\n",
       "      <td>NaN</td>\n",
       "      <td>NaN</td>\n",
       "      <td>NaN</td>\n",
       "      <td>NaN</td>\n",
       "      <td>NaN</td>\n",
       "      <td>NaN</td>\n",
       "    </tr>\n",
       "    <tr>\n",
       "      <th>3</th>\n",
       "      <td>c5499856b11d3a2796bdd362b1701fc1</td>\n",
       "      <td>2020-02-07 02:38:59 +0000</td>\n",
       "      <td>B00JYKGFWY</td>\n",
       "      <td>https://www.amazon.in/iPhone-LUVVITT%C2%AE-Scr...</td>\n",
       "      <td>iPhone 6 Case, LUVVITT® ULTRA ARMOR iPhone 6 C...</td>\n",
       "      <td>https://images-na.ssl-images-amazon.com/images...</td>\n",
       "      <td>https://images-na.ssl-images-amazon.com/images...</td>\n",
       "      <td>https://images-na.ssl-images-amazon.com/images...</td>\n",
       "      <td>1389409031</td>\n",
       "      <td>HelloYehlo</td>\n",
       "      <td>A1JBMJTTJQ09FC</td>\n",
       "      <td>Luvvitt</td>\n",
       "      <td>3954.0</td>\n",
       "      <td>34%</td>\n",
       "      <td>68 g</td>\n",
       "      <td>4.6</td>\n",
       "      <td>{'Electronics': 'Amazon Bestsellers Rank #31,8...</td>\n",
       "      <td>fulfilled_by_merchant</td>\n",
       "      <td>iPhone 6 Case, LUVVITT® ULTRA ARMOR iPhone 6 C...</td>\n",
       "      <td>N</td>\n",
       "      <td>{'Electronics': 'Amazon Bestsellers Rank #31,8...</td>\n",
       "      <td>N</td>\n",
       "      <td>Mr Shield [3-Pack]-Mr Shield for iPhone 6/iPho...</td>\n",
       "      <td>{'Item_Weight': '68 g', 'Product_Dimensions': ...</td>\n",
       "      <td>NaN</td>\n",
       "      <td>7536.0</td>\n",
       "      <td>NaN</td>\n",
       "      <td>NaN</td>\n",
       "      <td>NaN</td>\n",
       "      <td>NaN</td>\n",
       "      <td>NaN</td>\n",
       "      <td>NaN</td>\n",
       "      <td>NaN</td>\n",
       "      <td>NaN</td>\n",
       "      <td>NaN</td>\n",
       "      <td>NaN</td>\n",
       "    </tr>\n",
       "    <tr>\n",
       "      <th>4</th>\n",
       "      <td>ce5ac9f85505667fb9dafce9c1b0103c</td>\n",
       "      <td>2020-02-07 13:30:48 +0000</td>\n",
       "      <td>B07LB5SGK7</td>\n",
       "      <td>https://www.amazon.in/Redgear-MPR800-Soft-Mous...</td>\n",
       "      <td>Redgear MPR800 Soft Base Mousepad with 4 LED S...</td>\n",
       "      <td>https://images-na.ssl-images-amazon.com/images...</td>\n",
       "      <td>https://images-na.ssl-images-amazon.com/images...</td>\n",
       "      <td>https://images-na.ssl-images-amazon.com/images...</td>\n",
       "      <td>1375413031</td>\n",
       "      <td>Appario Retail Private Ltd</td>\n",
       "      <td>A14CZOWI0VEHLG</td>\n",
       "      <td>Redgear</td>\n",
       "      <td>1499.0</td>\n",
       "      <td>35%</td>\n",
       "      <td>—</td>\n",
       "      <td>4.6</td>\n",
       "      <td>{'ComputersAccessories': 'Amazon Bestsellers R...</td>\n",
       "      <td>fulfilled_by_amazon</td>\n",
       "      <td>Redgear MPR800 Soft Base Mousepad with 4 LED S...</td>\n",
       "      <td>Y</td>\n",
       "      <td>{'ComputersAccessories': 'Amazon Bestsellers R...</td>\n",
       "      <td>N</td>\n",
       "      <td>AmazonBasics Extended Gaming Mouse Pad,Black |...</td>\n",
       "      <td>{'Brand': 'Redgear', 'Item_Weight': '730 g', '...</td>\n",
       "      <td>NaN</td>\n",
       "      <td>NaN</td>\n",
       "      <td>NaN</td>\n",
       "      <td>NaN</td>\n",
       "      <td>NaN</td>\n",
       "      <td>NaN</td>\n",
       "      <td>NaN</td>\n",
       "      <td>NaN</td>\n",
       "      <td>NaN</td>\n",
       "      <td>NaN</td>\n",
       "      <td>NaN</td>\n",
       "      <td>NaN</td>\n",
       "    </tr>\n",
       "  </tbody>\n",
       "</table>\n",
       "</div>"
      ],
      "text/plain": [
       "                            uniq_id            crawl_timestamp        asin                                        product_url                                       product_name                                  image_urls__small                                             medium                                              large  browsenode                 seller_name       seller_id    brand  sales_price discount_percentage  weight  rating                      sales_rank_in_parent_category          delivery_type                                      meta_keywords amazon_prime__y_or_n                       parent___child_category__all best_seller_tag__y_or_n                          other_items_customers_buy                       technical_details__k_v_pairs                                             colour  no__of_reviews  no__of_offers  no__of_sellers sales_rank_in_child_category product_details__k_v_pairs  Number_Of_Items Batteries_Included Batteries_Required Material Form_Factor  left_in_stock\n",
       "0  8258a459bf720ac86b8bc2d214346c35  2020-02-06 19:30:06 +0000  B07652FT69  https://www.amazon.in/Cazcase-Pattern-Smart-Co...  Cazcase Deer Pattern Smart Case Cover Flip Sta...  https://images-na.ssl-images-amazon.com/images...  https://images-na.ssl-images-amazon.com/images...  https://images-na.ssl-images-amazon.com/images...  1375329031             E Shop Solution  A3BZXLJLCY3NHJ  CAZCASE        699.0                 46%   308 g     3.8  {'ComputersAccessories': 'Amazon Bestsellers R...    fulfilled_by_amazon  Cazcase Deer Pattern Smart Case Cover Flip Sta...                    Y  {'ComputersAccessories': 'Amazon Bestsellers R...                       N  ProElite Smart Deer Flip case Cover for Apple ...  {'Brand': 'CAZCASE', 'Colour': 'browm', 'Item_...                                                NaN             NaN            NaN             NaN                          NaN                        NaN              NaN                NaN                NaN      NaN         NaN            NaN\n",
       "1  8610899e786315b1adad872764f424b0  2020-02-07 00:20:04 +0000  B07TMCY7WN  https://www.amazon.in/D-kandy-Gionee-A1-Lite-M...  D-kandy for Gionee A1 Lite, Fashion Series Lea...  https://images-na.ssl-images-amazon.com/images...  https://images-na.ssl-images-amazon.com/images...                                                NaN  1389409031      SHIV DURGA ENTERPRISES  A2SD7UGM4EQIRK  D-kandy        699.0                 46%  81.6 g     4.6                                                NaN  fulfilled_by_merchant  D-kandy for Gionee A1 Lite, Fashion Series Lea...                    Y                                                NaN                       N                                                NaN  {'Brand': 'D-kandy', 'Model': 'Gionee A1 Lite'...  Blue|Cloth BLUE|Cloth Grey|Customised Black|Fa...             NaN            NaN             NaN                          NaN                        NaN              NaN                NaN                NaN      NaN         NaN            NaN\n",
       "2  1b0e4aa1d0cd635e2366558512ccc067  2020-02-06 19:59:39 +0000  B079VL519L  https://www.amazon.in/Heartly-Lenovo-A6600-Spi...  Heartly Kickstand Hard Dual Rugged Armor Hybri...  https://images-na.ssl-images-amazon.com/images...  https://images-na.ssl-images-amazon.com/images...  https://images-na.ssl-images-amazon.com/images...  1389409031           Ruh International  A1TOV1MNM33TCG  Heartly        299.0                 77%  49.9 g     4.6  {'Electronics': 'Amazon Bestsellers Rank #6,98...    fulfilled_by_amazon  Heartly Kickstand Hard Dual Rugged Armor Hybri...                    Y  {'Electronics': 'Amazon Bestsellers Rank #6,98...                       N                                                NaN  {'Brand': 'Heartly', 'Model': 'For Lenovo A660...                              Best Black|Power Blue             NaN            NaN             NaN                          NaN                        NaN              NaN                NaN                NaN      NaN         NaN            NaN\n",
       "3  c5499856b11d3a2796bdd362b1701fc1  2020-02-07 02:38:59 +0000  B00JYKGFWY  https://www.amazon.in/iPhone-LUVVITT%C2%AE-Scr...  iPhone 6 Case, LUVVITT® ULTRA ARMOR iPhone 6 C...  https://images-na.ssl-images-amazon.com/images...  https://images-na.ssl-images-amazon.com/images...  https://images-na.ssl-images-amazon.com/images...  1389409031                  HelloYehlo  A1JBMJTTJQ09FC  Luvvitt       3954.0                 34%    68 g     4.6  {'Electronics': 'Amazon Bestsellers Rank #31,8...  fulfilled_by_merchant  iPhone 6 Case, LUVVITT® ULTRA ARMOR iPhone 6 C...                    N  {'Electronics': 'Amazon Bestsellers Rank #31,8...                       N  Mr Shield [3-Pack]-Mr Shield for iPhone 6/iPho...  {'Item_Weight': '68 g', 'Product_Dimensions': ...                                                NaN          7536.0            NaN             NaN                          NaN                        NaN              NaN                NaN                NaN      NaN         NaN            NaN\n",
       "4  ce5ac9f85505667fb9dafce9c1b0103c  2020-02-07 13:30:48 +0000  B07LB5SGK7  https://www.amazon.in/Redgear-MPR800-Soft-Mous...  Redgear MPR800 Soft Base Mousepad with 4 LED S...  https://images-na.ssl-images-amazon.com/images...  https://images-na.ssl-images-amazon.com/images...  https://images-na.ssl-images-amazon.com/images...  1375413031  Appario Retail Private Ltd  A14CZOWI0VEHLG  Redgear       1499.0                 35%       —     4.6  {'ComputersAccessories': 'Amazon Bestsellers R...    fulfilled_by_amazon  Redgear MPR800 Soft Base Mousepad with 4 LED S...                    Y  {'ComputersAccessories': 'Amazon Bestsellers R...                       N  AmazonBasics Extended Gaming Mouse Pad,Black |...  {'Brand': 'Redgear', 'Item_Weight': '730 g', '...                                                NaN             NaN            NaN             NaN                          NaN                        NaN              NaN                NaN                NaN      NaN         NaN            NaN"
      ]
     },
     "execution_count": 4,
     "metadata": {},
     "output_type": "execute_result"
    }
   ],
   "source": [
    "#Reviewing the first 5 rows of the data\n",
    "df_elec.head()"
   ]
  },
  {
   "cell_type": "code",
   "execution_count": 5,
   "id": "cebc62af",
   "metadata": {},
   "outputs": [
    {
     "data": {
      "text/plain": [
       "(10000, 36)"
      ]
     },
     "execution_count": 5,
     "metadata": {},
     "output_type": "execute_result"
    }
   ],
   "source": [
    "#Checking the total number of rows and columns\n",
    "df_elec.shape"
   ]
  },
  {
   "cell_type": "code",
   "execution_count": 6,
   "id": "1cfe75ac",
   "metadata": {},
   "outputs": [
    {
     "data": {
      "text/html": [
       "<div>\n",
       "<style scoped>\n",
       "    .dataframe tbody tr th:only-of-type {\n",
       "        vertical-align: middle;\n",
       "    }\n",
       "\n",
       "    .dataframe tbody tr th {\n",
       "        vertical-align: top;\n",
       "    }\n",
       "\n",
       "    .dataframe thead th {\n",
       "        text-align: right;\n",
       "    }\n",
       "</style>\n",
       "<table border=\"1\" class=\"dataframe\">\n",
       "  <thead>\n",
       "    <tr style=\"text-align: right;\">\n",
       "      <th></th>\n",
       "      <th>uniq_id</th>\n",
       "      <th>crawl_timestamp</th>\n",
       "      <th>asin</th>\n",
       "      <th>product_url</th>\n",
       "      <th>product_name</th>\n",
       "      <th>image_urls__small</th>\n",
       "      <th>medium</th>\n",
       "      <th>large</th>\n",
       "      <th>browsenode</th>\n",
       "      <th>seller_name</th>\n",
       "      <th>seller_id</th>\n",
       "      <th>brand</th>\n",
       "      <th>sales_price</th>\n",
       "      <th>discount_percentage</th>\n",
       "      <th>weight</th>\n",
       "      <th>rating</th>\n",
       "      <th>sales_rank_in_parent_category</th>\n",
       "      <th>delivery_type</th>\n",
       "      <th>meta_keywords</th>\n",
       "      <th>amazon_prime__y_or_n</th>\n",
       "      <th>parent___child_category__all</th>\n",
       "      <th>best_seller_tag__y_or_n</th>\n",
       "      <th>other_items_customers_buy</th>\n",
       "      <th>technical_details__k_v_pairs</th>\n",
       "      <th>colour</th>\n",
       "      <th>no__of_reviews</th>\n",
       "      <th>no__of_offers</th>\n",
       "      <th>no__of_sellers</th>\n",
       "      <th>sales_rank_in_child_category</th>\n",
       "      <th>product_details__k_v_pairs</th>\n",
       "      <th>Number_Of_Items</th>\n",
       "      <th>Batteries_Included</th>\n",
       "      <th>Batteries_Required</th>\n",
       "      <th>Material</th>\n",
       "      <th>Form_Factor</th>\n",
       "      <th>left_in_stock</th>\n",
       "    </tr>\n",
       "  </thead>\n",
       "  <tbody>\n",
       "    <tr>\n",
       "      <th>9995</th>\n",
       "      <td>d91a55f03a0d149fc53abbe0576652ed</td>\n",
       "      <td>2020-02-07 00:03:45 +0000</td>\n",
       "      <td>B01HHNGYOI</td>\n",
       "      <td>https://www.amazon.in/Incipio-Octane-Moto-g4-P...</td>\n",
       "      <td>Incipio Octane for Moto g4/ g4 Plus - Frost/Cyan</td>\n",
       "      <td>https://images-na.ssl-images-amazon.com/images...</td>\n",
       "      <td>https://images-na.ssl-images-amazon.com/images...</td>\n",
       "      <td>https://images-na.ssl-images-amazon.com/images...</td>\n",
       "      <td>1389409031</td>\n",
       "      <td>NaN</td>\n",
       "      <td>NaN</td>\n",
       "      <td>Incipio</td>\n",
       "      <td>NaN</td>\n",
       "      <td>NaN</td>\n",
       "      <td>49.9 g</td>\n",
       "      <td>4.5</td>\n",
       "      <td>NaN</td>\n",
       "      <td>fulfilled_by_merchant</td>\n",
       "      <td>Incipio Octane for Moto g4/ g4 Plus - Frost/Cy...</td>\n",
       "      <td>N</td>\n",
       "      <td>NaN</td>\n",
       "      <td>N</td>\n",
       "      <td>[2-Pack] Motorola Moto G4 / Moto G (4th Genera...</td>\n",
       "      <td>{'Item_Weight': '49.9 g', 'Product_Dimensions'...</td>\n",
       "      <td>Frost/Black|Frost/Cyan</td>\n",
       "      <td>15.0</td>\n",
       "      <td>NaN</td>\n",
       "      <td>NaN</td>\n",
       "      <td>NaN</td>\n",
       "      <td>NaN</td>\n",
       "      <td>NaN</td>\n",
       "      <td>NaN</td>\n",
       "      <td>NaN</td>\n",
       "      <td>NaN</td>\n",
       "      <td>NaN</td>\n",
       "      <td>NaN</td>\n",
       "    </tr>\n",
       "    <tr>\n",
       "      <th>9996</th>\n",
       "      <td>211c9b201b2a282179f9eaab067b4702</td>\n",
       "      <td>2020-02-07 07:07:04 +0000</td>\n",
       "      <td>B0054EPPZM</td>\n",
       "      <td>https://www.amazon.in/Fotodiox-Extension-Extre...</td>\n",
       "      <td>Fotodiox Macro Extension Tube Set for Extreme ...</td>\n",
       "      <td>https://images-na.ssl-images-amazon.com/images...</td>\n",
       "      <td>https://images-na.ssl-images-amazon.com/images...</td>\n",
       "      <td>NaN</td>\n",
       "      <td>1389089031</td>\n",
       "      <td>FastMedia Ship from USA</td>\n",
       "      <td>A3AOLEOYOOLX74</td>\n",
       "      <td>Fotodiox</td>\n",
       "      <td>1658.0</td>\n",
       "      <td>43%</td>\n",
       "      <td>100 grams</td>\n",
       "      <td>5.0</td>\n",
       "      <td>{'Electronics': 'Amazon Bestsellers Rank #9,23...</td>\n",
       "      <td>fulfilled_by_merchant</td>\n",
       "      <td>Fotodiox Macro Extension Tube Set for Extreme ...</td>\n",
       "      <td>N</td>\n",
       "      <td>{'Electronics': 'Amazon Bestsellers Rank #9,23...</td>\n",
       "      <td>N</td>\n",
       "      <td>Andoer Metal Electronic TTL Auto Focus AF Macr...</td>\n",
       "      <td>{'Brand': 'Fotodiox', 'Model': '10-MCR-MFT-Kit...</td>\n",
       "      <td>NaN</td>\n",
       "      <td>83.0</td>\n",
       "      <td>NaN</td>\n",
       "      <td>NaN</td>\n",
       "      <td>NaN</td>\n",
       "      <td>NaN</td>\n",
       "      <td>NaN</td>\n",
       "      <td>NaN</td>\n",
       "      <td>NaN</td>\n",
       "      <td>NaN</td>\n",
       "      <td>NaN</td>\n",
       "      <td>NaN</td>\n",
       "    </tr>\n",
       "    <tr>\n",
       "      <th>9997</th>\n",
       "      <td>4805b0e77be4bab79a2a7a051f5a62a0</td>\n",
       "      <td>2020-02-06 23:30:55 +0000</td>\n",
       "      <td>B07RD6BJSK</td>\n",
       "      <td>https://www.amazon.in/BuyFeb-Printed-Xiaomi-Re...</td>\n",
       "      <td>BuyFeb Soft Printed Back Cover Case for Xiaomi...</td>\n",
       "      <td>https://images-na.ssl-images-amazon.com/images...</td>\n",
       "      <td>https://images-na.ssl-images-amazon.com/images...</td>\n",
       "      <td>https://images-na.ssl-images-amazon.com/images...</td>\n",
       "      <td>1389409031</td>\n",
       "      <td>BuyFeb com</td>\n",
       "      <td>AX46U84U4OUU8</td>\n",
       "      <td>BuyFeb</td>\n",
       "      <td>239.0</td>\n",
       "      <td>76%</td>\n",
       "      <td>31.8 g</td>\n",
       "      <td>3.5</td>\n",
       "      <td>{'Electronics': 'Amazon Bestsellers Rank #7,39...</td>\n",
       "      <td>fulfilled_by_merchant</td>\n",
       "      <td>BuyFeb Soft Printed Back Cover Case for Xiaomi...</td>\n",
       "      <td>Y</td>\n",
       "      <td>{'Electronics': 'Amazon Bestsellers Rank #7,39...</td>\n",
       "      <td>N</td>\n",
       "      <td>Fashionury Pink Leaves Designer Printed 360 De...</td>\n",
       "      <td>{'Brand': 'BuyFeb', 'Model': 'Xiaomi Redmi Y3'...</td>\n",
       "      <td>Design1|Design10|Design11|Design12|Design13|De...</td>\n",
       "      <td>NaN</td>\n",
       "      <td>NaN</td>\n",
       "      <td>NaN</td>\n",
       "      <td>NaN</td>\n",
       "      <td>NaN</td>\n",
       "      <td>NaN</td>\n",
       "      <td>NaN</td>\n",
       "      <td>NaN</td>\n",
       "      <td>NaN</td>\n",
       "      <td>NaN</td>\n",
       "      <td>NaN</td>\n",
       "    </tr>\n",
       "    <tr>\n",
       "      <th>9998</th>\n",
       "      <td>8700c595ec10693de142bae85108eb04</td>\n",
       "      <td>2020-02-07 02:22:53 +0000</td>\n",
       "      <td>B07KMVTGTV</td>\n",
       "      <td>https://www.amazon.in/Luxendary-Designer-Print...</td>\n",
       "      <td>Luxendary Designer, 3D Printed, Fashion, High ...</td>\n",
       "      <td>https://images-na.ssl-images-amazon.com/images...</td>\n",
       "      <td>https://images-na.ssl-images-amazon.com/images...</td>\n",
       "      <td>https://images-na.ssl-images-amazon.com/images...</td>\n",
       "      <td>1389409031</td>\n",
       "      <td>NaN</td>\n",
       "      <td>NaN</td>\n",
       "      <td>Luxendary</td>\n",
       "      <td>7222.0</td>\n",
       "      <td>NaN</td>\n",
       "      <td>118 g</td>\n",
       "      <td>3.0</td>\n",
       "      <td>NaN</td>\n",
       "      <td>fulfilled_by_merchant</td>\n",
       "      <td>Luxendary Designer, 3D Printed, Fashion, High ...</td>\n",
       "      <td>N</td>\n",
       "      <td>NaN</td>\n",
       "      <td>N</td>\n",
       "      <td>NaN</td>\n",
       "      <td>{'Item_Weight': '118 g', 'Product_Dimensions':...</td>\n",
       "      <td>NaN</td>\n",
       "      <td>3.0</td>\n",
       "      <td>NaN</td>\n",
       "      <td>NaN</td>\n",
       "      <td>NaN</td>\n",
       "      <td>NaN</td>\n",
       "      <td>NaN</td>\n",
       "      <td>NaN</td>\n",
       "      <td>NaN</td>\n",
       "      <td>NaN</td>\n",
       "      <td>NaN</td>\n",
       "      <td>NaN</td>\n",
       "    </tr>\n",
       "    <tr>\n",
       "      <th>9999</th>\n",
       "      <td>ebf6823b1266c938d14caee8711b27de</td>\n",
       "      <td>2020-02-06 23:11:40 +0000</td>\n",
       "      <td>B006OLFW16</td>\n",
       "      <td>https://www.amazon.in/Creative-HS-150-HS-150-H...</td>\n",
       "      <td>Creative HS 150 Headphone</td>\n",
       "      <td>https://images-na.ssl-images-amazon.com/images...</td>\n",
       "      <td>https://images-na.ssl-images-amazon.com/images...</td>\n",
       "      <td>https://images-na.ssl-images-amazon.com/images...</td>\n",
       "      <td>14146391031</td>\n",
       "      <td>NaN</td>\n",
       "      <td>NaN</td>\n",
       "      <td>Creative</td>\n",
       "      <td>1199.0</td>\n",
       "      <td>NaN</td>\n",
       "      <td>87 grams</td>\n",
       "      <td>3.6</td>\n",
       "      <td>{'ComputersAccessories': 'Amazon Bestsellers R...</td>\n",
       "      <td>fulfilled_by_merchant</td>\n",
       "      <td>Creative HS 150 Headphone,Creatie,HS-150,Creat...</td>\n",
       "      <td>N</td>\n",
       "      <td>{'ComputersAccessories': 'Amazon Bestsellers R...</td>\n",
       "      <td>N</td>\n",
       "      <td>Creative Sound Blaster Jam Ultra-Light Bluetoo...</td>\n",
       "      <td>{'Brand': 'Creative', 'Item_Weight': '86.2 g',...</td>\n",
       "      <td>NaN</td>\n",
       "      <td>NaN</td>\n",
       "      <td>NaN</td>\n",
       "      <td>NaN</td>\n",
       "      <td>NaN</td>\n",
       "      <td>NaN</td>\n",
       "      <td>NaN</td>\n",
       "      <td>NaN</td>\n",
       "      <td>NaN</td>\n",
       "      <td>NaN</td>\n",
       "      <td>NaN</td>\n",
       "      <td>NaN</td>\n",
       "    </tr>\n",
       "  </tbody>\n",
       "</table>\n",
       "</div>"
      ],
      "text/plain": [
       "                               uniq_id            crawl_timestamp        asin                                        product_url                                       product_name                                  image_urls__small                                             medium                                              large   browsenode              seller_name       seller_id      brand  sales_price discount_percentage     weight  rating                      sales_rank_in_parent_category          delivery_type                                      meta_keywords amazon_prime__y_or_n                       parent___child_category__all best_seller_tag__y_or_n                          other_items_customers_buy                       technical_details__k_v_pairs                                             colour  no__of_reviews  no__of_offers  no__of_sellers sales_rank_in_child_category product_details__k_v_pairs  Number_Of_Items Batteries_Included Batteries_Required Material Form_Factor  left_in_stock\n",
       "9995  d91a55f03a0d149fc53abbe0576652ed  2020-02-07 00:03:45 +0000  B01HHNGYOI  https://www.amazon.in/Incipio-Octane-Moto-g4-P...   Incipio Octane for Moto g4/ g4 Plus - Frost/Cyan  https://images-na.ssl-images-amazon.com/images...  https://images-na.ssl-images-amazon.com/images...  https://images-na.ssl-images-amazon.com/images...   1389409031                      NaN             NaN    Incipio          NaN                 NaN     49.9 g     4.5                                                NaN  fulfilled_by_merchant  Incipio Octane for Moto g4/ g4 Plus - Frost/Cy...                    N                                                NaN                       N  [2-Pack] Motorola Moto G4 / Moto G (4th Genera...  {'Item_Weight': '49.9 g', 'Product_Dimensions'...                             Frost/Black|Frost/Cyan            15.0            NaN             NaN                          NaN                        NaN              NaN                NaN                NaN      NaN         NaN            NaN\n",
       "9996  211c9b201b2a282179f9eaab067b4702  2020-02-07 07:07:04 +0000  B0054EPPZM  https://www.amazon.in/Fotodiox-Extension-Extre...  Fotodiox Macro Extension Tube Set for Extreme ...  https://images-na.ssl-images-amazon.com/images...  https://images-na.ssl-images-amazon.com/images...                                                NaN   1389089031  FastMedia Ship from USA  A3AOLEOYOOLX74   Fotodiox       1658.0                 43%  100 grams     5.0  {'Electronics': 'Amazon Bestsellers Rank #9,23...  fulfilled_by_merchant  Fotodiox Macro Extension Tube Set for Extreme ...                    N  {'Electronics': 'Amazon Bestsellers Rank #9,23...                       N  Andoer Metal Electronic TTL Auto Focus AF Macr...  {'Brand': 'Fotodiox', 'Model': '10-MCR-MFT-Kit...                                                NaN            83.0            NaN             NaN                          NaN                        NaN              NaN                NaN                NaN      NaN         NaN            NaN\n",
       "9997  4805b0e77be4bab79a2a7a051f5a62a0  2020-02-06 23:30:55 +0000  B07RD6BJSK  https://www.amazon.in/BuyFeb-Printed-Xiaomi-Re...  BuyFeb Soft Printed Back Cover Case for Xiaomi...  https://images-na.ssl-images-amazon.com/images...  https://images-na.ssl-images-amazon.com/images...  https://images-na.ssl-images-amazon.com/images...   1389409031               BuyFeb com   AX46U84U4OUU8     BuyFeb        239.0                 76%     31.8 g     3.5  {'Electronics': 'Amazon Bestsellers Rank #7,39...  fulfilled_by_merchant  BuyFeb Soft Printed Back Cover Case for Xiaomi...                    Y  {'Electronics': 'Amazon Bestsellers Rank #7,39...                       N  Fashionury Pink Leaves Designer Printed 360 De...  {'Brand': 'BuyFeb', 'Model': 'Xiaomi Redmi Y3'...  Design1|Design10|Design11|Design12|Design13|De...             NaN            NaN             NaN                          NaN                        NaN              NaN                NaN                NaN      NaN         NaN            NaN\n",
       "9998  8700c595ec10693de142bae85108eb04  2020-02-07 02:22:53 +0000  B07KMVTGTV  https://www.amazon.in/Luxendary-Designer-Print...  Luxendary Designer, 3D Printed, Fashion, High ...  https://images-na.ssl-images-amazon.com/images...  https://images-na.ssl-images-amazon.com/images...  https://images-na.ssl-images-amazon.com/images...   1389409031                      NaN             NaN  Luxendary       7222.0                 NaN      118 g     3.0                                                NaN  fulfilled_by_merchant  Luxendary Designer, 3D Printed, Fashion, High ...                    N                                                NaN                       N                                                NaN  {'Item_Weight': '118 g', 'Product_Dimensions':...                                                NaN             3.0            NaN             NaN                          NaN                        NaN              NaN                NaN                NaN      NaN         NaN            NaN\n",
       "9999  ebf6823b1266c938d14caee8711b27de  2020-02-06 23:11:40 +0000  B006OLFW16  https://www.amazon.in/Creative-HS-150-HS-150-H...                          Creative HS 150 Headphone  https://images-na.ssl-images-amazon.com/images...  https://images-na.ssl-images-amazon.com/images...  https://images-na.ssl-images-amazon.com/images...  14146391031                      NaN             NaN   Creative       1199.0                 NaN   87 grams     3.6  {'ComputersAccessories': 'Amazon Bestsellers R...  fulfilled_by_merchant  Creative HS 150 Headphone,Creatie,HS-150,Creat...                    N  {'ComputersAccessories': 'Amazon Bestsellers R...                       N  Creative Sound Blaster Jam Ultra-Light Bluetoo...  {'Brand': 'Creative', 'Item_Weight': '86.2 g',...                                                NaN             NaN            NaN             NaN                          NaN                        NaN              NaN                NaN                NaN      NaN         NaN            NaN"
      ]
     },
     "execution_count": 6,
     "metadata": {},
     "output_type": "execute_result"
    }
   ],
   "source": [
    "#Reviewing the last 5 rows of the data\n",
    "df_elec.tail()"
   ]
  },
  {
   "cell_type": "code",
   "execution_count": 7,
   "id": "72840bdb",
   "metadata": {},
   "outputs": [
    {
     "data": {
      "text/plain": [
       "Index(['uniq_id', 'crawl_timestamp', 'asin', 'product_url', 'product_name', 'image_urls__small', 'medium', 'large', 'browsenode', 'seller_name', 'seller_id', 'brand', 'sales_price', 'discount_percentage', 'weight', 'rating', 'sales_rank_in_parent_category', 'delivery_type', 'meta_keywords', 'amazon_prime__y_or_n', 'parent___child_category__all', 'best_seller_tag__y_or_n', 'other_items_customers_buy', 'technical_details__k_v_pairs', 'colour', 'no__of_reviews', 'no__of_offers', 'no__of_sellers', 'sales_rank_in_child_category', 'product_details__k_v_pairs', 'Number_Of_Items', 'Batteries_Included', 'Batteries_Required', 'Material', 'Form_Factor', 'left_in_stock'], dtype='object')"
      ]
     },
     "execution_count": 7,
     "metadata": {},
     "output_type": "execute_result"
    }
   ],
   "source": [
    "#Viewing all columns in the df\n",
    "df_elec.columns"
   ]
  },
  {
   "cell_type": "markdown",
   "id": "cc57f044-a2af-4ea1-b442-b74acc4b6f84",
   "metadata": {},
   "source": [
    "### Find, replace and remove **NULL** values and drop useless columns"
   ]
  },
  {
   "cell_type": "code",
   "execution_count": 8,
   "id": "a2654a8e",
   "metadata": {},
   "outputs": [
    {
     "data": {
      "text/plain": [
       "date\n",
       "2020-02-07    6006\n",
       "2020-02-06    3994\n",
       "Name: count, dtype: int64"
      ]
     },
     "execution_count": 8,
     "metadata": {},
     "output_type": "execute_result"
    }
   ],
   "source": [
    "#Split the crawl-timestamp column to check if it's worth keeping\n",
    "df_elec[['date', 'time']] = df_elec['crawl_timestamp'].str.split(' ', n=1, expand=True)\n",
    "df_elec.drop('time', axis=1)\n",
    "df_elec['date'].value_counts()\n",
    "\n",
    "#Only 2 unique dates so it's useless"
   ]
  },
  {
   "cell_type": "code",
   "execution_count": 9,
   "id": "d05be712",
   "metadata": {},
   "outputs": [
    {
     "data": {
      "text/plain": [
       "uniq_id                             0\n",
       "crawl_timestamp                     0\n",
       "asin                                0\n",
       "product_url                         0\n",
       "product_name                        0\n",
       "image_urls__small                   0\n",
       "medium                              0\n",
       "large                            1546\n",
       "browsenode                          0\n",
       "seller_name                      1691\n",
       "seller_id                        1692\n",
       "brand                              33\n",
       "sales_price                       437\n",
       "discount_percentage              2051\n",
       "weight                              0\n",
       "rating                              0\n",
       "sales_rank_in_parent_category    3099\n",
       "delivery_type                       0\n",
       "meta_keywords                       0\n",
       "amazon_prime__y_or_n                0\n",
       "parent___child_category__all     3099\n",
       "best_seller_tag__y_or_n             0\n",
       "other_items_customers_buy        4462\n",
       "technical_details__k_v_pairs      349\n",
       "colour                           5956\n",
       "no__of_reviews                   7473\n",
       "no__of_offers                    9594\n",
       "no__of_sellers                   9594\n",
       "sales_rank_in_child_category     9768\n",
       "product_details__k_v_pairs       9666\n",
       "Number_Of_Items                  9999\n",
       "Batteries_Included               9999\n",
       "Batteries_Required               9999\n",
       "Material                         9999\n",
       "Form_Factor                      9999\n",
       "left_in_stock                    9997\n",
       "date                                0\n",
       "time                                0\n",
       "dtype: int64"
      ]
     },
     "execution_count": 9,
     "metadata": {},
     "output_type": "execute_result"
    }
   ],
   "source": [
    "#The number of null values in each column\n",
    "df_elec.isnull().sum()"
   ]
  },
  {
   "cell_type": "code",
   "execution_count": 10,
   "id": "d4501f4f",
   "metadata": {},
   "outputs": [],
   "source": [
    "#Removing useless columns\n",
    "df_elec = df_elec.drop(['uniq_id', 'crawl_timestamp','product_url', 'image_urls__small',\n",
    "              'medium', 'large', 'browsenode', 'seller_id', 'parent___child_category__all', 'other_items_customers_buy', 'technical_details__k_v_pairs'\n",
    "              ,'colour', 'no__of_reviews', 'no__of_offers', 'no__of_sellers', 'sales_rank_in_child_category'\n",
    "              , 'product_details__k_v_pairs', 'Number_Of_Items', 'Batteries_Included', 'Batteries_Required'\n",
    "              , 'Material', 'Form_Factor', 'left_in_stock', 'date', 'time'], axis=1)"
   ]
  },
  {
   "cell_type": "code",
   "execution_count": 11,
   "id": "8c833fe4",
   "metadata": {},
   "outputs": [
    {
     "data": {
      "text/plain": [
       "asin                                0\n",
       "product_name                        0\n",
       "seller_name                      1691\n",
       "brand                              33\n",
       "sales_price                       437\n",
       "discount_percentage              2051\n",
       "weight                              0\n",
       "rating                              0\n",
       "sales_rank_in_parent_category    3099\n",
       "delivery_type                       0\n",
       "meta_keywords                       0\n",
       "amazon_prime__y_or_n                0\n",
       "best_seller_tag__y_or_n             0\n",
       "dtype: int64"
      ]
     },
     "execution_count": 11,
     "metadata": {},
     "output_type": "execute_result"
    }
   ],
   "source": [
    "df_elec.isnull().sum()"
   ]
  },
  {
   "cell_type": "code",
   "execution_count": 12,
   "id": "8e26bf47",
   "metadata": {},
   "outputs": [],
   "source": [
    "#Removing the rows which contain null values in the sales rank category\n",
    "df_elec.dropna(axis=0, subset=['sales_rank_in_parent_category'], inplace=True)"
   ]
  },
  {
   "cell_type": "code",
   "execution_count": 13,
   "id": "8abf9363",
   "metadata": {},
   "outputs": [
    {
     "data": {
      "text/plain": [
       "asin                               0\n",
       "product_name                       0\n",
       "seller_name                      601\n",
       "brand                              4\n",
       "sales_price                      144\n",
       "discount_percentage              900\n",
       "weight                             0\n",
       "rating                             0\n",
       "sales_rank_in_parent_category      0\n",
       "delivery_type                      0\n",
       "meta_keywords                      0\n",
       "amazon_prime__y_or_n               0\n",
       "best_seller_tag__y_or_n            0\n",
       "dtype: int64"
      ]
     },
     "execution_count": 13,
     "metadata": {},
     "output_type": "execute_result"
    }
   ],
   "source": [
    "df_elec.isnull().sum()"
   ]
  },
  {
   "cell_type": "code",
   "execution_count": 14,
   "id": "7ef2f677",
   "metadata": {},
   "outputs": [
    {
     "data": {
      "text/plain": [
       "144"
      ]
     },
     "execution_count": 14,
     "metadata": {},
     "output_type": "execute_result"
    }
   ],
   "source": [
    "#When the sales_price is missing, the seller and discount % are missing too\n",
    "df_elec[['seller_name', 'sales_price','discount_percentage']].isnull().all(1).sum()"
   ]
  },
  {
   "cell_type": "code",
   "execution_count": 15,
   "id": "5e05d534",
   "metadata": {},
   "outputs": [
    {
     "data": {
      "text/plain": [
       "delivery_type\n",
       "fulfilled_by_merchant    144\n",
       "Name: count, dtype: int64"
      ]
     },
     "execution_count": 15,
     "metadata": {},
     "output_type": "execute_result"
    }
   ],
   "source": [
    "#All rows that have missing prices have dropship as delivery type\n",
    "no_price = df_elec[df_elec['sales_price'].isnull()]\n",
    "no_price['delivery_type'].value_counts()"
   ]
  },
  {
   "cell_type": "code",
   "execution_count": 16,
   "id": "9d963448",
   "metadata": {},
   "outputs": [],
   "source": [
    "#Dropping the rows where we're missing a seller and a price\n",
    "df_elec.dropna(axis=0, subset=['seller_name', 'sales_price'], inplace=True)"
   ]
  },
  {
   "cell_type": "code",
   "execution_count": 17,
   "id": "9e97f1fe",
   "metadata": {},
   "outputs": [
    {
     "data": {
      "text/plain": [
       "asin                               0\n",
       "product_name                       0\n",
       "seller_name                        0\n",
       "brand                              2\n",
       "sales_price                        0\n",
       "discount_percentage              299\n",
       "weight                             0\n",
       "rating                             0\n",
       "sales_rank_in_parent_category      0\n",
       "delivery_type                      0\n",
       "meta_keywords                      0\n",
       "amazon_prime__y_or_n               0\n",
       "best_seller_tag__y_or_n            0\n",
       "dtype: int64"
      ]
     },
     "execution_count": 17,
     "metadata": {},
     "output_type": "execute_result"
    }
   ],
   "source": [
    "df_elec.isnull().sum()"
   ]
  },
  {
   "cell_type": "code",
   "execution_count": 18,
   "id": "e911cc14",
   "metadata": {},
   "outputs": [],
   "source": [
    "#Replacing the null values with 0\n",
    "df_elec['discount_percentage'].fillna('0', inplace=True)"
   ]
  },
  {
   "cell_type": "code",
   "execution_count": 19,
   "id": "7270833c",
   "metadata": {},
   "outputs": [
    {
     "data": {
      "text/html": [
       "<div>\n",
       "<style scoped>\n",
       "    .dataframe tbody tr th:only-of-type {\n",
       "        vertical-align: middle;\n",
       "    }\n",
       "\n",
       "    .dataframe tbody tr th {\n",
       "        vertical-align: top;\n",
       "    }\n",
       "\n",
       "    .dataframe thead th {\n",
       "        text-align: right;\n",
       "    }\n",
       "</style>\n",
       "<table border=\"1\" class=\"dataframe\">\n",
       "  <thead>\n",
       "    <tr style=\"text-align: right;\">\n",
       "      <th></th>\n",
       "      <th>asin</th>\n",
       "      <th>product_name</th>\n",
       "      <th>seller_name</th>\n",
       "      <th>brand</th>\n",
       "      <th>sales_price</th>\n",
       "      <th>discount_percentage</th>\n",
       "      <th>weight</th>\n",
       "      <th>rating</th>\n",
       "      <th>sales_rank_in_parent_category</th>\n",
       "      <th>delivery_type</th>\n",
       "      <th>meta_keywords</th>\n",
       "      <th>amazon_prime__y_or_n</th>\n",
       "      <th>best_seller_tag__y_or_n</th>\n",
       "    </tr>\n",
       "  </thead>\n",
       "  <tbody>\n",
       "    <tr>\n",
       "      <th>971</th>\n",
       "      <td>B01LQAA48A</td>\n",
       "      <td>ShopReals 2 Amp Charger For Samsung Galaxy Tab...</td>\n",
       "      <td>ShopsGeniune</td>\n",
       "      <td>NaN</td>\n",
       "      <td>349.0</td>\n",
       "      <td>0</td>\n",
       "      <td>999999999</td>\n",
       "      <td>5.0</td>\n",
       "      <td>{'ComputersAccessories': 'Amazon Bestsellers R...</td>\n",
       "      <td>fulfilled_by_merchant</td>\n",
       "      <td>ShopReals 2 Amp Charger For Samsung Galaxy Tab...</td>\n",
       "      <td>Y</td>\n",
       "      <td>N</td>\n",
       "    </tr>\n",
       "    <tr>\n",
       "      <th>7414</th>\n",
       "      <td>B07CCKXM3H</td>\n",
       "      <td>[1 Pack] Microsoft Surface Book 2 Screen Prote...</td>\n",
       "      <td>Cart2India SLP</td>\n",
       "      <td>NaN</td>\n",
       "      <td>2709.0</td>\n",
       "      <td>40%</td>\n",
       "      <td>386 g</td>\n",
       "      <td>3.7</td>\n",
       "      <td>{'Electronics': 'Amazon Bestsellers Rank #14,1...</td>\n",
       "      <td>fulfilled_by_merchant</td>\n",
       "      <td>[1 Pack] Microsoft Surface Book 2 Screen Prote...</td>\n",
       "      <td>N</td>\n",
       "      <td>N</td>\n",
       "    </tr>\n",
       "  </tbody>\n",
       "</table>\n",
       "</div>"
      ],
      "text/plain": [
       "            asin                                       product_name     seller_name brand  sales_price discount_percentage     weight  rating                      sales_rank_in_parent_category          delivery_type                                      meta_keywords amazon_prime__y_or_n best_seller_tag__y_or_n\n",
       "971   B01LQAA48A  ShopReals 2 Amp Charger For Samsung Galaxy Tab...    ShopsGeniune   NaN        349.0                   0  999999999     5.0  {'ComputersAccessories': 'Amazon Bestsellers R...  fulfilled_by_merchant  ShopReals 2 Amp Charger For Samsung Galaxy Tab...                    Y                       N\n",
       "7414  B07CCKXM3H  [1 Pack] Microsoft Surface Book 2 Screen Prote...  Cart2India SLP   NaN       2709.0                 40%      386 g     3.7  {'Electronics': 'Amazon Bestsellers Rank #14,1...  fulfilled_by_merchant  [1 Pack] Microsoft Surface Book 2 Screen Prote...                    N                       N"
      ]
     },
     "execution_count": 19,
     "metadata": {},
     "output_type": "execute_result"
    }
   ],
   "source": [
    "#Useless 2 rows because we don't have a brand\n",
    "df_elec[df_elec['brand'].isnull()]"
   ]
  },
  {
   "cell_type": "code",
   "execution_count": 20,
   "id": "8917fc34",
   "metadata": {},
   "outputs": [],
   "source": [
    "#Removing the rows by using their indexes\n",
    "df_elec.drop([971,7414], axis=0, inplace=True)"
   ]
  },
  {
   "cell_type": "code",
   "execution_count": 21,
   "id": "ded39ec7",
   "metadata": {},
   "outputs": [
    {
     "data": {
      "text/plain": [
       "asin                             0\n",
       "product_name                     0\n",
       "seller_name                      0\n",
       "brand                            0\n",
       "sales_price                      0\n",
       "discount_percentage              0\n",
       "weight                           0\n",
       "rating                           0\n",
       "sales_rank_in_parent_category    0\n",
       "delivery_type                    0\n",
       "meta_keywords                    0\n",
       "amazon_prime__y_or_n             0\n",
       "best_seller_tag__y_or_n          0\n",
       "dtype: int64"
      ]
     },
     "execution_count": 21,
     "metadata": {},
     "output_type": "execute_result"
    }
   ],
   "source": [
    "df_elec.isnull().sum()"
   ]
  },
  {
   "cell_type": "code",
   "execution_count": 22,
   "id": "2aa71cf4",
   "metadata": {},
   "outputs": [
    {
     "data": {
      "text/plain": [
       "(6298, 13)"
      ]
     },
     "execution_count": 22,
     "metadata": {},
     "output_type": "execute_result"
    }
   ],
   "source": [
    "df_elec.shape"
   ]
  },
  {
   "cell_type": "markdown",
   "id": "1b6df510-a8de-482d-9932-bcba94ac1c5c",
   "metadata": {},
   "source": [
    "#### Extract the Rank and Convert it to a numerical value"
   ]
  },
  {
   "cell_type": "code",
   "execution_count": 23,
   "id": "9de34b16",
   "metadata": {},
   "outputs": [],
   "source": [
    "#Initialize an empty list to store the rank values\n",
    "rank = []\n",
    "\n",
    "#Extract the values contaning the rank from the dict\n",
    "for key, val in df_elec['sales_rank_in_parent_category'].items():\n",
    "    for k, v in val.items():\n",
    "        rank.append(v)\n",
    "        \n",
    "df_elec['rank'] = rank\n",
    "#Use regex to extract only the number separated by commas\n",
    "df_elec['rank'] = df_elec['rank'].str.extract(r'#([\\d,]+)')\n",
    "#Convert to int format\n",
    "df_elec['rank'] = df_elec['rank'].str.replace(',', '', regex=True).astype('int64')"
   ]
  },
  {
   "cell_type": "code",
   "execution_count": 24,
   "id": "b99341a6",
   "metadata": {},
   "outputs": [],
   "source": [
    "df_elec.drop(columns='sales_rank_in_parent_category', inplace=True)"
   ]
  },
  {
   "cell_type": "code",
   "execution_count": 25,
   "id": "bf8dd8fc",
   "metadata": {},
   "outputs": [
    {
     "data": {
      "text/html": [
       "<div>\n",
       "<style scoped>\n",
       "    .dataframe tbody tr th:only-of-type {\n",
       "        vertical-align: middle;\n",
       "    }\n",
       "\n",
       "    .dataframe tbody tr th {\n",
       "        vertical-align: top;\n",
       "    }\n",
       "\n",
       "    .dataframe thead th {\n",
       "        text-align: right;\n",
       "    }\n",
       "</style>\n",
       "<table border=\"1\" class=\"dataframe\">\n",
       "  <thead>\n",
       "    <tr style=\"text-align: right;\">\n",
       "      <th></th>\n",
       "      <th>asin</th>\n",
       "      <th>product_name</th>\n",
       "      <th>seller_name</th>\n",
       "      <th>brand</th>\n",
       "      <th>sales_price</th>\n",
       "      <th>discount_percentage</th>\n",
       "      <th>weight</th>\n",
       "      <th>rating</th>\n",
       "      <th>delivery_type</th>\n",
       "      <th>meta_keywords</th>\n",
       "      <th>amazon_prime__y_or_n</th>\n",
       "      <th>best_seller_tag__y_or_n</th>\n",
       "      <th>rank</th>\n",
       "    </tr>\n",
       "  </thead>\n",
       "  <tbody>\n",
       "    <tr>\n",
       "      <th>0</th>\n",
       "      <td>B07652FT69</td>\n",
       "      <td>Cazcase Deer Pattern Smart Case Cover Flip Sta...</td>\n",
       "      <td>E Shop Solution</td>\n",
       "      <td>CAZCASE</td>\n",
       "      <td>699.0</td>\n",
       "      <td>46%</td>\n",
       "      <td>308 g</td>\n",
       "      <td>3.8</td>\n",
       "      <td>fulfilled_by_amazon</td>\n",
       "      <td>Cazcase Deer Pattern Smart Case Cover Flip Sta...</td>\n",
       "      <td>Y</td>\n",
       "      <td>N</td>\n",
       "      <td>35464</td>\n",
       "    </tr>\n",
       "    <tr>\n",
       "      <th>2</th>\n",
       "      <td>B079VL519L</td>\n",
       "      <td>Heartly Kickstand Hard Dual Rugged Armor Hybri...</td>\n",
       "      <td>Ruh International</td>\n",
       "      <td>Heartly</td>\n",
       "      <td>299.0</td>\n",
       "      <td>77%</td>\n",
       "      <td>49.9 g</td>\n",
       "      <td>4.6</td>\n",
       "      <td>fulfilled_by_amazon</td>\n",
       "      <td>Heartly Kickstand Hard Dual Rugged Armor Hybri...</td>\n",
       "      <td>Y</td>\n",
       "      <td>N</td>\n",
       "      <td>698934</td>\n",
       "    </tr>\n",
       "    <tr>\n",
       "      <th>3</th>\n",
       "      <td>B00JYKGFWY</td>\n",
       "      <td>iPhone 6 Case, LUVVITT® ULTRA ARMOR iPhone 6 C...</td>\n",
       "      <td>HelloYehlo</td>\n",
       "      <td>Luvvitt</td>\n",
       "      <td>3954.0</td>\n",
       "      <td>34%</td>\n",
       "      <td>68 g</td>\n",
       "      <td>4.6</td>\n",
       "      <td>fulfilled_by_merchant</td>\n",
       "      <td>iPhone 6 Case, LUVVITT® ULTRA ARMOR iPhone 6 C...</td>\n",
       "      <td>N</td>\n",
       "      <td>N</td>\n",
       "      <td>3181968</td>\n",
       "    </tr>\n",
       "    <tr>\n",
       "      <th>4</th>\n",
       "      <td>B07LB5SGK7</td>\n",
       "      <td>Redgear MPR800 Soft Base Mousepad with 4 LED S...</td>\n",
       "      <td>Appario Retail Private Ltd</td>\n",
       "      <td>Redgear</td>\n",
       "      <td>1499.0</td>\n",
       "      <td>35%</td>\n",
       "      <td>—</td>\n",
       "      <td>4.6</td>\n",
       "      <td>fulfilled_by_amazon</td>\n",
       "      <td>Redgear MPR800 Soft Base Mousepad with 4 LED S...</td>\n",
       "      <td>Y</td>\n",
       "      <td>N</td>\n",
       "      <td>1679</td>\n",
       "    </tr>\n",
       "    <tr>\n",
       "      <th>9</th>\n",
       "      <td>B00LPC3O3M</td>\n",
       "      <td>Verbatim Bravo Wired Notebook Optical Mouse, B...</td>\n",
       "      <td>G. G.</td>\n",
       "      <td>Verbatim</td>\n",
       "      <td>1292.0</td>\n",
       "      <td>52%</td>\n",
       "      <td>90.7 g</td>\n",
       "      <td>4.2</td>\n",
       "      <td>fulfilled_by_merchant</td>\n",
       "      <td>Verbatim Bravo Wired Notebook Optical Mouse, B...</td>\n",
       "      <td>N</td>\n",
       "      <td>N</td>\n",
       "      <td>156041</td>\n",
       "    </tr>\n",
       "  </tbody>\n",
       "</table>\n",
       "</div>"
      ],
      "text/plain": [
       "         asin                                       product_name                 seller_name     brand  sales_price discount_percentage  weight  rating          delivery_type                                      meta_keywords amazon_prime__y_or_n best_seller_tag__y_or_n     rank\n",
       "0  B07652FT69  Cazcase Deer Pattern Smart Case Cover Flip Sta...             E Shop Solution   CAZCASE        699.0                 46%   308 g     3.8    fulfilled_by_amazon  Cazcase Deer Pattern Smart Case Cover Flip Sta...                    Y                       N    35464\n",
       "2  B079VL519L  Heartly Kickstand Hard Dual Rugged Armor Hybri...           Ruh International   Heartly        299.0                 77%  49.9 g     4.6    fulfilled_by_amazon  Heartly Kickstand Hard Dual Rugged Armor Hybri...                    Y                       N   698934\n",
       "3  B00JYKGFWY  iPhone 6 Case, LUVVITT® ULTRA ARMOR iPhone 6 C...                  HelloYehlo   Luvvitt       3954.0                 34%    68 g     4.6  fulfilled_by_merchant  iPhone 6 Case, LUVVITT® ULTRA ARMOR iPhone 6 C...                    N                       N  3181968\n",
       "4  B07LB5SGK7  Redgear MPR800 Soft Base Mousepad with 4 LED S...  Appario Retail Private Ltd   Redgear       1499.0                 35%       —     4.6    fulfilled_by_amazon  Redgear MPR800 Soft Base Mousepad with 4 LED S...                    Y                       N     1679\n",
       "9  B00LPC3O3M  Verbatim Bravo Wired Notebook Optical Mouse, B...                       G. G.  Verbatim       1292.0                 52%  90.7 g     4.2  fulfilled_by_merchant  Verbatim Bravo Wired Notebook Optical Mouse, B...                    N                       N   156041"
      ]
     },
     "execution_count": 25,
     "metadata": {},
     "output_type": "execute_result"
    }
   ],
   "source": [
    "df_elec.head()"
   ]
  },
  {
   "cell_type": "code",
   "execution_count": 26,
   "id": "13ac6ffc",
   "metadata": {},
   "outputs": [
    {
     "name": "stdout",
     "output_type": "stream",
     "text": [
      "<class 'pandas.core.frame.DataFrame'>\n",
      "Index: 6298 entries, 0 to 9997\n",
      "Data columns (total 13 columns):\n",
      " #   Column                   Non-Null Count  Dtype  \n",
      "---  ------                   --------------  -----  \n",
      " 0   asin                     6298 non-null   object \n",
      " 1   product_name             6298 non-null   object \n",
      " 2   seller_name              6298 non-null   object \n",
      " 3   brand                    6298 non-null   object \n",
      " 4   sales_price              6298 non-null   float64\n",
      " 5   discount_percentage      6298 non-null   object \n",
      " 6   weight                   6298 non-null   object \n",
      " 7   rating                   6298 non-null   float64\n",
      " 8   delivery_type            6298 non-null   object \n",
      " 9   meta_keywords            6298 non-null   object \n",
      " 10  amazon_prime__y_or_n     6298 non-null   object \n",
      " 11  best_seller_tag__y_or_n  6298 non-null   object \n",
      " 12  rank                     6298 non-null   int64  \n",
      "dtypes: float64(2), int64(1), object(10)\n",
      "memory usage: 688.8+ KB\n"
     ]
    }
   ],
   "source": [
    "df_elec.info()"
   ]
  },
  {
   "cell_type": "markdown",
   "id": "8b93e126-d2f3-4f1d-9d23-98db0a70243b",
   "metadata": {},
   "source": [
    "#### Converting all weight values to grams in a numeric format"
   ]
  },
  {
   "cell_type": "code",
   "execution_count": 27,
   "id": "0d3e3761",
   "metadata": {},
   "outputs": [],
   "source": [
    "'''Defining a function for extracting the weight number\n",
    "    and converting it to grams, if needed'''\n",
    "def weight_normalize(weight):\n",
    "    if 'k' in weight.lower():\n",
    "        norm_weight = weight.split(' ')[0]\n",
    "        norm_weight = float(norm_weight) * 1000\n",
    "        return norm_weight\n",
    "    elif 'g' in weight.lower():\n",
    "        norm_weight = weight.split(' ')[0]\n",
    "        return norm_weight\n",
    "    else:\n",
    "        weight = 'Error'\n",
    "    "
   ]
  },
  {
   "cell_type": "code",
   "execution_count": 28,
   "id": "0d272984",
   "metadata": {},
   "outputs": [],
   "source": [
    "#dropping the 999999999 and - values\n",
    "df_elec = df_elec.loc[(df_elec['weight'] != '—') & (df_elec['weight'] != '999999999')]"
   ]
  },
  {
   "cell_type": "code",
   "execution_count": 29,
   "id": "77346dab-9ae3-448b-9721-276926b853ed",
   "metadata": {
    "scrolled": true
   },
   "outputs": [],
   "source": [
    "#applying the function to all values in the weight column\n",
    "df_elec['weight'] = df_elec['weight'].map(lambda x: weight_normalize(x))"
   ]
  },
  {
   "cell_type": "code",
   "execution_count": 30,
   "id": "eab9c58c",
   "metadata": {},
   "outputs": [],
   "source": [
    "#Converting the weight to numeric format\n",
    "df_elec['weight'] = pd.to_numeric(df_elec['weight'])"
   ]
  },
  {
   "cell_type": "code",
   "execution_count": 31,
   "id": "1ff55f5c",
   "metadata": {},
   "outputs": [],
   "source": [
    "#Indicating that the weight is in grams by renaming the column\n",
    "df_elec.rename(columns={'weight': 'weight_grams'}, inplace=True)"
   ]
  },
  {
   "cell_type": "code",
   "execution_count": 32,
   "id": "78a049e0",
   "metadata": {},
   "outputs": [],
   "source": [
    "#Removing the % sign from the discount values\n",
    "df_elec['discount_percentage'] = df_elec['discount_percentage'].apply(lambda x: x.split('%')[0])\n",
    "df_elec['discount_percentage'] = pd.to_numeric(df_elec['discount_percentage'])"
   ]
  },
  {
   "cell_type": "code",
   "execution_count": 33,
   "id": "1e75d3ec",
   "metadata": {},
   "outputs": [],
   "source": [
    "#Converting the price from rupees to dollars\n",
    "df_elec['sales_price'] = df_elec['sales_price'].apply(lambda x: round(x*0.012, 2))"
   ]
  },
  {
   "cell_type": "code",
   "execution_count": 34,
   "id": "015ee193-0cca-4d05-a9ce-12fd6673dba4",
   "metadata": {},
   "outputs": [
    {
     "data": {
      "text/plain": [
       "amazon_prime__y_or_n\n",
       "Y    4097\n",
       "N    1079\n",
       "Name: count, dtype: int64"
      ]
     },
     "execution_count": 34,
     "metadata": {},
     "output_type": "execute_result"
    }
   ],
   "source": [
    "#Number of unique values for the prime column\n",
    "df_elec['amazon_prime__y_or_n'].value_counts()"
   ]
  },
  {
   "cell_type": "code",
   "execution_count": 35,
   "id": "1b8d50ef-f08d-4b0e-b2ec-065d9c6080fb",
   "metadata": {},
   "outputs": [
    {
     "data": {
      "text/plain": [
       "best_seller_tag__y_or_n\n",
       "N    5175\n",
       "Y       1\n",
       "Name: count, dtype: int64"
      ]
     },
     "execution_count": 35,
     "metadata": {},
     "output_type": "execute_result"
    }
   ],
   "source": [
    "#Number of unique values for the best seller column\n",
    "df_elec['best_seller_tag__y_or_n'].value_counts()"
   ]
  },
  {
   "cell_type": "markdown",
   "id": "134cd04e-b1f8-4f46-83dc-f01efb3fea4c",
   "metadata": {},
   "source": [
    "**Because there's only 1 Best Seller value, we conclude that there's no reason \\\n",
    "for keeping the best seller column, as it won't be useful for the analysis**"
   ]
  },
  {
   "cell_type": "code",
   "execution_count": 36,
   "id": "304fb95f-ef48-4228-8e10-6351d4a4652d",
   "metadata": {},
   "outputs": [],
   "source": [
    "df_elec.drop(columns='best_seller_tag__y_or_n', inplace=True)"
   ]
  },
  {
   "cell_type": "code",
   "execution_count": 37,
   "id": "75e6496e-cc7d-4820-9364-f202956372b7",
   "metadata": {},
   "outputs": [
    {
     "data": {
      "text/html": [
       "<div>\n",
       "<style scoped>\n",
       "    .dataframe tbody tr th:only-of-type {\n",
       "        vertical-align: middle;\n",
       "    }\n",
       "\n",
       "    .dataframe tbody tr th {\n",
       "        vertical-align: top;\n",
       "    }\n",
       "\n",
       "    .dataframe thead th {\n",
       "        text-align: right;\n",
       "    }\n",
       "</style>\n",
       "<table border=\"1\" class=\"dataframe\">\n",
       "  <thead>\n",
       "    <tr style=\"text-align: right;\">\n",
       "      <th></th>\n",
       "      <th>asin</th>\n",
       "      <th>product_name</th>\n",
       "      <th>seller_name</th>\n",
       "      <th>brand</th>\n",
       "      <th>sales_price</th>\n",
       "      <th>discount_percentage</th>\n",
       "      <th>weight_grams</th>\n",
       "      <th>rating</th>\n",
       "      <th>delivery_type</th>\n",
       "      <th>meta_keywords</th>\n",
       "      <th>amazon_prime__y_or_n</th>\n",
       "      <th>rank</th>\n",
       "    </tr>\n",
       "  </thead>\n",
       "  <tbody>\n",
       "    <tr>\n",
       "      <th>0</th>\n",
       "      <td>B07652FT69</td>\n",
       "      <td>Cazcase Deer Pattern Smart Case Cover Flip Sta...</td>\n",
       "      <td>E Shop Solution</td>\n",
       "      <td>CAZCASE</td>\n",
       "      <td>8.39</td>\n",
       "      <td>46</td>\n",
       "      <td>308.0</td>\n",
       "      <td>3.8</td>\n",
       "      <td>fulfilled_by_amazon</td>\n",
       "      <td>Cazcase Deer Pattern Smart Case Cover Flip Sta...</td>\n",
       "      <td>Y</td>\n",
       "      <td>35464</td>\n",
       "    </tr>\n",
       "    <tr>\n",
       "      <th>2</th>\n",
       "      <td>B079VL519L</td>\n",
       "      <td>Heartly Kickstand Hard Dual Rugged Armor Hybri...</td>\n",
       "      <td>Ruh International</td>\n",
       "      <td>Heartly</td>\n",
       "      <td>3.59</td>\n",
       "      <td>77</td>\n",
       "      <td>49.9</td>\n",
       "      <td>4.6</td>\n",
       "      <td>fulfilled_by_amazon</td>\n",
       "      <td>Heartly Kickstand Hard Dual Rugged Armor Hybri...</td>\n",
       "      <td>Y</td>\n",
       "      <td>698934</td>\n",
       "    </tr>\n",
       "    <tr>\n",
       "      <th>3</th>\n",
       "      <td>B00JYKGFWY</td>\n",
       "      <td>iPhone 6 Case, LUVVITT® ULTRA ARMOR iPhone 6 C...</td>\n",
       "      <td>HelloYehlo</td>\n",
       "      <td>Luvvitt</td>\n",
       "      <td>47.45</td>\n",
       "      <td>34</td>\n",
       "      <td>68.0</td>\n",
       "      <td>4.6</td>\n",
       "      <td>fulfilled_by_merchant</td>\n",
       "      <td>iPhone 6 Case, LUVVITT® ULTRA ARMOR iPhone 6 C...</td>\n",
       "      <td>N</td>\n",
       "      <td>3181968</td>\n",
       "    </tr>\n",
       "    <tr>\n",
       "      <th>9</th>\n",
       "      <td>B00LPC3O3M</td>\n",
       "      <td>Verbatim Bravo Wired Notebook Optical Mouse, B...</td>\n",
       "      <td>G. G.</td>\n",
       "      <td>Verbatim</td>\n",
       "      <td>15.50</td>\n",
       "      <td>52</td>\n",
       "      <td>90.7</td>\n",
       "      <td>4.2</td>\n",
       "      <td>fulfilled_by_merchant</td>\n",
       "      <td>Verbatim Bravo Wired Notebook Optical Mouse, B...</td>\n",
       "      <td>N</td>\n",
       "      <td>156041</td>\n",
       "    </tr>\n",
       "    <tr>\n",
       "      <th>10</th>\n",
       "      <td>B07BV5K9TV</td>\n",
       "      <td>Aarfa Slimfit Durable Printed Hard Case for Xi...</td>\n",
       "      <td>arretail</td>\n",
       "      <td>Aarfa</td>\n",
       "      <td>3.58</td>\n",
       "      <td>70</td>\n",
       "      <td>49.9</td>\n",
       "      <td>3.9</td>\n",
       "      <td>fulfilled_by_merchant</td>\n",
       "      <td>Aarfa Slimfit Durable Printed Hard Case for Xi...</td>\n",
       "      <td>Y</td>\n",
       "      <td>373349</td>\n",
       "    </tr>\n",
       "  </tbody>\n",
       "</table>\n",
       "</div>"
      ],
      "text/plain": [
       "          asin                                       product_name        seller_name     brand  sales_price  discount_percentage  weight_grams  rating          delivery_type                                      meta_keywords amazon_prime__y_or_n     rank\n",
       "0   B07652FT69  Cazcase Deer Pattern Smart Case Cover Flip Sta...    E Shop Solution   CAZCASE         8.39                   46         308.0     3.8    fulfilled_by_amazon  Cazcase Deer Pattern Smart Case Cover Flip Sta...                    Y    35464\n",
       "2   B079VL519L  Heartly Kickstand Hard Dual Rugged Armor Hybri...  Ruh International   Heartly         3.59                   77          49.9     4.6    fulfilled_by_amazon  Heartly Kickstand Hard Dual Rugged Armor Hybri...                    Y   698934\n",
       "3   B00JYKGFWY  iPhone 6 Case, LUVVITT® ULTRA ARMOR iPhone 6 C...         HelloYehlo   Luvvitt        47.45                   34          68.0     4.6  fulfilled_by_merchant  iPhone 6 Case, LUVVITT® ULTRA ARMOR iPhone 6 C...                    N  3181968\n",
       "9   B00LPC3O3M  Verbatim Bravo Wired Notebook Optical Mouse, B...              G. G.  Verbatim        15.50                   52          90.7     4.2  fulfilled_by_merchant  Verbatim Bravo Wired Notebook Optical Mouse, B...                    N   156041\n",
       "10  B07BV5K9TV  Aarfa Slimfit Durable Printed Hard Case for Xi...           arretail     Aarfa         3.58                   70          49.9     3.9  fulfilled_by_merchant  Aarfa Slimfit Durable Printed Hard Case for Xi...                    Y   373349"
      ]
     },
     "execution_count": 37,
     "metadata": {},
     "output_type": "execute_result"
    }
   ],
   "source": [
    "df_elec.head()"
   ]
  },
  {
   "cell_type": "markdown",
   "id": "cf8701e2-ad51-4ae1-83ce-da03287e4b5a",
   "metadata": {},
   "source": [
    "### Detecting outliers"
   ]
  },
  {
   "cell_type": "code",
   "execution_count": 38,
   "id": "97e0d442-eabb-442a-aa13-6479aeb61ac7",
   "metadata": {},
   "outputs": [
    {
     "data": {
      "text/html": [
       "<div>\n",
       "<style scoped>\n",
       "    .dataframe tbody tr th:only-of-type {\n",
       "        vertical-align: middle;\n",
       "    }\n",
       "\n",
       "    .dataframe tbody tr th {\n",
       "        vertical-align: top;\n",
       "    }\n",
       "\n",
       "    .dataframe thead th {\n",
       "        text-align: right;\n",
       "    }\n",
       "</style>\n",
       "<table border=\"1\" class=\"dataframe\">\n",
       "  <thead>\n",
       "    <tr style=\"text-align: right;\">\n",
       "      <th></th>\n",
       "      <th>asin</th>\n",
       "      <th>product_name</th>\n",
       "      <th>seller_name</th>\n",
       "      <th>brand</th>\n",
       "      <th>sales_price</th>\n",
       "      <th>discount_percentage</th>\n",
       "      <th>weight_grams</th>\n",
       "      <th>rating</th>\n",
       "      <th>delivery_type</th>\n",
       "      <th>meta_keywords</th>\n",
       "      <th>amazon_prime__y_or_n</th>\n",
       "      <th>rank</th>\n",
       "    </tr>\n",
       "  </thead>\n",
       "  <tbody>\n",
       "  </tbody>\n",
       "</table>\n",
       "</div>"
      ],
      "text/plain": [
       "Empty DataFrame\n",
       "Columns: [asin, product_name, seller_name, brand, sales_price, discount_percentage, weight_grams, rating, delivery_type, meta_keywords, amazon_prime__y_or_n, rank]\n",
       "Index: []"
      ]
     },
     "execution_count": 38,
     "metadata": {},
     "output_type": "execute_result"
    }
   ],
   "source": [
    "#no outliers for the discount %\n",
    "df_elec.loc[(df_elec['discount_percentage'] > 100) | df_elec['discount_percentage'] < 0]"
   ]
  },
  {
   "cell_type": "code",
   "execution_count": 39,
   "id": "58bb42ba-e940-4205-85ea-6822dfd19ec6",
   "metadata": {},
   "outputs": [
    {
     "data": {
      "text/plain": [
       "array(['N', 'Y'], dtype=object)"
      ]
     },
     "execution_count": 39,
     "metadata": {},
     "output_type": "execute_result"
    }
   ],
   "source": [
    "#No outliers in the prime column\n",
    "np.unique(df_elec['amazon_prime__y_or_n'].values)"
   ]
  },
  {
   "cell_type": "code",
   "execution_count": 40,
   "id": "54c558e7-640b-48fb-a8e7-859869a15039",
   "metadata": {},
   "outputs": [
    {
     "data": {
      "text/plain": [
       "array(['fulfilled_by_amazon', 'fulfilled_by_merchant'], dtype=object)"
      ]
     },
     "execution_count": 40,
     "metadata": {},
     "output_type": "execute_result"
    }
   ],
   "source": [
    "#No outliers in the delivery column\n",
    "np.unique(df_elec['delivery_type'].values)"
   ]
  },
  {
   "cell_type": "code",
   "execution_count": 41,
   "id": "04945a9a-13b5-4e94-8a0a-2ab868e4f0c2",
   "metadata": {},
   "outputs": [
    {
     "data": {
      "text/html": [
       "<div>\n",
       "<style scoped>\n",
       "    .dataframe tbody tr th:only-of-type {\n",
       "        vertical-align: middle;\n",
       "    }\n",
       "\n",
       "    .dataframe tbody tr th {\n",
       "        vertical-align: top;\n",
       "    }\n",
       "\n",
       "    .dataframe thead th {\n",
       "        text-align: right;\n",
       "    }\n",
       "</style>\n",
       "<table border=\"1\" class=\"dataframe\">\n",
       "  <thead>\n",
       "    <tr style=\"text-align: right;\">\n",
       "      <th></th>\n",
       "      <th>asin</th>\n",
       "      <th>product_name</th>\n",
       "      <th>seller_name</th>\n",
       "      <th>brand</th>\n",
       "      <th>sales_price</th>\n",
       "      <th>discount_percentage</th>\n",
       "      <th>weight_grams</th>\n",
       "      <th>rating</th>\n",
       "      <th>delivery_type</th>\n",
       "      <th>meta_keywords</th>\n",
       "      <th>amazon_prime__y_or_n</th>\n",
       "      <th>rank</th>\n",
       "    </tr>\n",
       "  </thead>\n",
       "  <tbody>\n",
       "  </tbody>\n",
       "</table>\n",
       "</div>"
      ],
      "text/plain": [
       "Empty DataFrame\n",
       "Columns: [asin, product_name, seller_name, brand, sales_price, discount_percentage, weight_grams, rating, delivery_type, meta_keywords, amazon_prime__y_or_n, rank]\n",
       "Index: []"
      ]
     },
     "execution_count": 41,
     "metadata": {},
     "output_type": "execute_result"
    }
   ],
   "source": [
    "#no rating outliers\n",
    "df_elec.loc[(df_elec['rating'] < 0) | df_elec['rating'] > 5]"
   ]
  },
  {
   "cell_type": "code",
   "execution_count": 42,
   "id": "c81b09c3-b782-47e1-9543-c97362fc999e",
   "metadata": {},
   "outputs": [
    {
     "data": {
      "text/plain": [
       "count    5176.000000\n",
       "mean        9.709276\n",
       "std        15.806082\n",
       "min         0.470000\n",
       "25%         2.990000\n",
       "50%         4.670000\n",
       "75%         8.390000\n",
       "max       186.960000\n",
       "Name: sales_price, dtype: float64"
      ]
     },
     "execution_count": 42,
     "metadata": {},
     "output_type": "execute_result"
    }
   ],
   "source": [
    "df_elec['sales_price'].describe()"
   ]
  },
  {
   "cell_type": "markdown",
   "id": "21fd825c-5781-4f2f-ae5e-8486bfb7fa54",
   "metadata": {},
   "source": [
    "**The maximum value of the sales price column is much higher than the mean and the 75% quartile(Q3), \\\n",
    "so we'll plot the sales price to see its distribution**"
   ]
  },
  {
   "cell_type": "code",
   "execution_count": 43,
   "id": "bc7173cd-12c7-47bb-b738-91d92f9c8226",
   "metadata": {},
   "outputs": [
    {
     "data": {
      "text/plain": [
       "Text(0.5, 0, 'Sales price')"
      ]
     },
     "execution_count": 43,
     "metadata": {},
     "output_type": "execute_result"
    },
    {
     "data": {
      "image/png": "[encoded data removed]",
      "text/plain": [
       "<Figure size 1000x400 with 1 Axes>"
      ]
     },
     "metadata": {},
     "output_type": "display_data"
    }
   ],
   "source": [
    "#Plotting the distribution of the sales price using a histogram\n",
    "plt.style.use('dark_background')\n",
    "df_elec['sales_price'].plot.hist(bins=6, figsize=(10,4), color='darkgreen')\n",
    "plt.xlabel('Sales price', fontsize=14)"
   ]
  },
  {
   "cell_type": "code",
   "execution_count": 44,
   "id": "b71fb7fd-a242-483d-a6f1-b62900dc2a2d",
   "metadata": {},
   "outputs": [
    {
     "data": {
      "text/plain": [
       "Text(0.5, 1.0, 'Sales Price Distribution')"
      ]
     },
     "execution_count": 44,
     "metadata": {},
     "output_type": "execute_result"
    },
    {
     "data": {
      "image/png": "[encoded data removed]",
      "text/plain": [
       "<Figure size 1000x400 with 1 Axes>"
      ]
     },
     "metadata": {},
     "output_type": "display_data"
    }
   ],
   "source": [
    "#Plotting the distribution of the sales price using a boxplot\n",
    "plt.style.use('dark_background')\n",
    "df_elec.boxplot(column='sales_price',vert=False, figsize=(10, 4), color='orange', grid=False)\n",
    "plt.title('Sales Price Distribution', fontsize=16)"
   ]
  },
  {
   "cell_type": "markdown",
   "id": "4a14c040-c5fa-49ba-8f87-7b86b7b7ab61",
   "metadata": {},
   "source": [
    "### Detecting outliers using Z-score Statistical Method"
   ]
  },
  {
   "cell_type": "code",
   "execution_count": 45,
   "id": "e7d2db4e-500b-4c73-97bc-b75eb0811e65",
   "metadata": {},
   "outputs": [],
   "source": [
    "#Calculating the Z-score of each value in the sales price column\n",
    "df_elec['z-score'] = stats.zscore(df_elec['sales_price'])"
   ]
  },
  {
   "cell_type": "code",
   "execution_count": 46,
   "id": "c74c9f02-e84e-417c-a97e-c53bd36db436",
   "metadata": {},
   "outputs": [
    {
     "data": {
      "text/plain": [
       "(138, 13)"
      ]
     },
     "execution_count": 46,
     "metadata": {},
     "output_type": "execute_result"
    }
   ],
   "source": [
    "#the number of outliers beyond the z-score threshold\n",
    "df_elec.loc[(df_elec['z-score'] < -3) | (df_elec['z-score'] > 3)].shape"
   ]
  },
  {
   "cell_type": "code",
   "execution_count": 47,
   "id": "d8d98286-197e-4a38-9b0a-450f6435a433",
   "metadata": {},
   "outputs": [],
   "source": [
    "#Removing some of the values considered as ouliers\n",
    "df_elec.drop(df_elec.loc[(df_elec['z-score'] < -3) | (df_elec['z-score'] > 3)].index, inplace=True)"
   ]
  },
  {
   "cell_type": "markdown",
   "id": "634ff59b-dbf0-45b3-b1e1-989d5add655f",
   "metadata": {},
   "source": [
    "#### Plotting the Distributions and Relationships of the Sales Price and the Weight"
   ]
  },
  {
   "cell_type": "code",
   "execution_count": 48,
   "id": "f75915fe-3ad3-474e-a69b-d70dfca1a1fe",
   "metadata": {},
   "outputs": [
    {
     "data": {
      "text/plain": [
       "Text(0.5, 0, 'Sales price')"
      ]
     },
     "execution_count": 48,
     "metadata": {},
     "output_type": "execute_result"
    },
    {
     "data": {
      "image/png": "[encoded data removed]",
      "text/plain": [
       "<Figure size 1000x400 with 1 Axes>"
      ]
     },
     "metadata": {},
     "output_type": "display_data"
    }
   ],
   "source": [
    "plt.style.use('dark_background')\n",
    "df_elec['sales_price'].plot.hist(bins=6, figsize=(10,4), color='darkgreen')\n",
    "plt.xlabel('Sales price', fontsize=14)"
   ]
  },
  {
   "cell_type": "code",
   "execution_count": 49,
   "id": "346dd996-17c5-49bc-b67c-37a7231ba21f",
   "metadata": {},
   "outputs": [
    {
     "data": {
      "text/plain": [
       "Text(0.5, 1.0, 'Sales Price Distribution')"
      ]
     },
     "execution_count": 49,
     "metadata": {},
     "output_type": "execute_result"
    },
    {
     "data": {
      "image/png": "[encoded data removed]",
      "text/plain": [
       "<Figure size 1000x400 with 1 Axes>"
      ]
     },
     "metadata": {},
     "output_type": "display_data"
    }
   ],
   "source": [
    "plt.style.use('dark_background')\n",
    "df_elec.boxplot(column='sales_price',vert=False, figsize=(10, 4), color='orange', grid=False)\n",
    "plt.title('Sales Price Distribution', fontsize=16)"
   ]
  },
  {
   "cell_type": "code",
   "execution_count": 50,
   "id": "84da3320-83d0-4a56-9486-ab80a9ad47ae",
   "metadata": {},
   "outputs": [
    {
     "data": {
      "text/plain": [
       "<Axes: xlabel='weight_grams', ylabel='sales_price'>"
      ]
     },
     "execution_count": 50,
     "metadata": {},
     "output_type": "execute_result"
    },
    {
     "data": {
      "image/png": "[encoded data removed]",
      "text/plain": [
       "<Figure size 1000x400 with 1 Axes>"
      ]
     },
     "metadata": {},
     "output_type": "display_data"
    }
   ],
   "source": [
    "#Plotting the relationship between weight and price\n",
    "plt.style.use('dark_background')\n",
    "df_elec.plot.scatter(x='weight_grams', y='sales_price', figsize=(10, 4),c='orange')"
   ]
  },
  {
   "cell_type": "code",
   "execution_count": 51,
   "id": "f1f34043-97b7-4965-98c8-e091f8e8ec8c",
   "metadata": {},
   "outputs": [
    {
     "data": {
      "text/plain": [
       "<Axes: >"
      ]
     },
     "execution_count": 51,
     "metadata": {},
     "output_type": "execute_result"
    },
    {
     "data": {
      "image/png": "[encoded data removed]",
      "text/plain": [
       "<Figure size 1000x400 with 1 Axes>"
      ]
     },
     "metadata": {},
     "output_type": "display_data"
    }
   ],
   "source": [
    "plt.style.use('dark_background')\n",
    "df_elec.boxplot(column='weight_grams',vert=False, figsize=(10, 4), color='orange', grid=False)"
   ]
  },
  {
   "cell_type": "markdown",
   "id": "380efee2-6689-4780-ae5d-1a36f8d7c052",
   "metadata": {},
   "source": [
    "**From the scatter plot of weight and price and the boxplot of the weight we can clearly see that there are 2 extreme values \\\n",
    "that need to be removed so they won't impact the analysis**"
   ]
  },
  {
   "cell_type": "code",
   "execution_count": 52,
   "id": "9bb59231-1286-4346-b188-35054cb83732",
   "metadata": {},
   "outputs": [
    {
     "data": {
      "text/plain": [
       "<Axes: >"
      ]
     },
     "execution_count": 52,
     "metadata": {},
     "output_type": "execute_result"
    },
    {
     "data": {
      "image/png": "[encoded data removed]",
      "text/plain": [
       "<Figure size 1000x400 with 1 Axes>"
      ]
     },
     "metadata": {},
     "output_type": "display_data"
    }
   ],
   "source": [
    "#boxplot of the weight after removing the most extreme values\n",
    "df_elec = df_elec[df_elec['weight_grams'] < 12000]\n",
    "df_elec.boxplot(column='weight_grams',vert=False, figsize=(10, 4), color='orange', grid=False)"
   ]
  },
  {
   "cell_type": "markdown",
   "id": "0bd22326-c8b8-4e2d-a60d-79bfcbc3cec7",
   "metadata": {},
   "source": [
    "**We don't need to remove all the outliers as the heavier and more expensive products can be analyzed separately and they can still produce meaningful insights. We only needed to remove the extreme values that will affect the overall analysis.**"
   ]
  },
  {
   "cell_type": "code",
   "execution_count": 53,
   "id": "49aa398a-493a-4723-a86b-71ac51bd0da8",
   "metadata": {},
   "outputs": [
    {
     "data": {
      "text/plain": [
       "(5033, 13)"
      ]
     },
     "execution_count": 53,
     "metadata": {},
     "output_type": "execute_result"
    }
   ],
   "source": [
    "#final number of values after the data cleaning\n",
    "df_elec.shape"
   ]
  },
  {
   "cell_type": "code",
   "execution_count": 55,
   "id": "bc40cbad",
   "metadata": {},
   "outputs": [],
   "source": [
    "#fixing the indexing \n",
    "df_elec.reset_index(drop=True, inplace=True)"
   ]
  },
  {
   "cell_type": "code",
   "execution_count": 56,
   "id": "a0026243",
   "metadata": {},
   "outputs": [
    {
     "data": {
      "text/html": [
       "<div>\n",
       "<style scoped>\n",
       "    .dataframe tbody tr th:only-of-type {\n",
       "        vertical-align: middle;\n",
       "    }\n",
       "\n",
       "    .dataframe tbody tr th {\n",
       "        vertical-align: top;\n",
       "    }\n",
       "\n",
       "    .dataframe thead th {\n",
       "        text-align: right;\n",
       "    }\n",
       "</style>\n",
       "<table border=\"1\" class=\"dataframe\">\n",
       "  <thead>\n",
       "    <tr style=\"text-align: right;\">\n",
       "      <th></th>\n",
       "      <th>asin</th>\n",
       "      <th>product_name</th>\n",
       "      <th>seller_name</th>\n",
       "      <th>brand</th>\n",
       "      <th>sales_price</th>\n",
       "      <th>discount_percentage</th>\n",
       "      <th>weight_grams</th>\n",
       "      <th>rating</th>\n",
       "      <th>delivery_type</th>\n",
       "      <th>meta_keywords</th>\n",
       "      <th>amazon_prime__y_or_n</th>\n",
       "      <th>rank</th>\n",
       "      <th>z-score</th>\n",
       "    </tr>\n",
       "  </thead>\n",
       "  <tbody>\n",
       "    <tr>\n",
       "      <th>0</th>\n",
       "      <td>B07652FT69</td>\n",
       "      <td>Cazcase Deer Pattern Smart Case Cover Flip Sta...</td>\n",
       "      <td>E Shop Solution</td>\n",
       "      <td>CAZCASE</td>\n",
       "      <td>8.39</td>\n",
       "      <td>46</td>\n",
       "      <td>308.0</td>\n",
       "      <td>3.8</td>\n",
       "      <td>fulfilled_by_amazon</td>\n",
       "      <td>Cazcase Deer Pattern Smart Case Cover Flip Sta...</td>\n",
       "      <td>Y</td>\n",
       "      <td>35464</td>\n",
       "      <td>-0.083474</td>\n",
       "    </tr>\n",
       "    <tr>\n",
       "      <th>1</th>\n",
       "      <td>B079VL519L</td>\n",
       "      <td>Heartly Kickstand Hard Dual Rugged Armor Hybri...</td>\n",
       "      <td>Ruh International</td>\n",
       "      <td>Heartly</td>\n",
       "      <td>3.59</td>\n",
       "      <td>77</td>\n",
       "      <td>49.9</td>\n",
       "      <td>4.6</td>\n",
       "      <td>fulfilled_by_amazon</td>\n",
       "      <td>Heartly Kickstand Hard Dual Rugged Armor Hybri...</td>\n",
       "      <td>Y</td>\n",
       "      <td>698934</td>\n",
       "      <td>-0.387184</td>\n",
       "    </tr>\n",
       "    <tr>\n",
       "      <th>2</th>\n",
       "      <td>B00JYKGFWY</td>\n",
       "      <td>iPhone 6 Case, LUVVITT® ULTRA ARMOR iPhone 6 C...</td>\n",
       "      <td>HelloYehlo</td>\n",
       "      <td>Luvvitt</td>\n",
       "      <td>47.45</td>\n",
       "      <td>34</td>\n",
       "      <td>68.0</td>\n",
       "      <td>4.6</td>\n",
       "      <td>fulfilled_by_merchant</td>\n",
       "      <td>iPhone 6 Case, LUVVITT® ULTRA ARMOR iPhone 6 C...</td>\n",
       "      <td>N</td>\n",
       "      <td>3181968</td>\n",
       "      <td>2.387965</td>\n",
       "    </tr>\n",
       "    <tr>\n",
       "      <th>3</th>\n",
       "      <td>B00LPC3O3M</td>\n",
       "      <td>Verbatim Bravo Wired Notebook Optical Mouse, B...</td>\n",
       "      <td>G. G.</td>\n",
       "      <td>Verbatim</td>\n",
       "      <td>15.50</td>\n",
       "      <td>52</td>\n",
       "      <td>90.7</td>\n",
       "      <td>4.2</td>\n",
       "      <td>fulfilled_by_merchant</td>\n",
       "      <td>Verbatim Bravo Wired Notebook Optical Mouse, B...</td>\n",
       "      <td>N</td>\n",
       "      <td>156041</td>\n",
       "      <td>0.366396</td>\n",
       "    </tr>\n",
       "    <tr>\n",
       "      <th>4</th>\n",
       "      <td>B07BV5K9TV</td>\n",
       "      <td>Aarfa Slimfit Durable Printed Hard Case for Xi...</td>\n",
       "      <td>arretail</td>\n",
       "      <td>Aarfa</td>\n",
       "      <td>3.58</td>\n",
       "      <td>70</td>\n",
       "      <td>49.9</td>\n",
       "      <td>3.9</td>\n",
       "      <td>fulfilled_by_merchant</td>\n",
       "      <td>Aarfa Slimfit Durable Printed Hard Case for Xi...</td>\n",
       "      <td>Y</td>\n",
       "      <td>373349</td>\n",
       "      <td>-0.387817</td>\n",
       "    </tr>\n",
       "  </tbody>\n",
       "</table>\n",
       "</div>"
      ],
      "text/plain": [
       "         asin                                       product_name        seller_name     brand  sales_price  discount_percentage  weight_grams  rating          delivery_type                                      meta_keywords amazon_prime__y_or_n     rank   z-score\n",
       "0  B07652FT69  Cazcase Deer Pattern Smart Case Cover Flip Sta...    E Shop Solution   CAZCASE         8.39                   46         308.0     3.8    fulfilled_by_amazon  Cazcase Deer Pattern Smart Case Cover Flip Sta...                    Y    35464 -0.083474\n",
       "1  B079VL519L  Heartly Kickstand Hard Dual Rugged Armor Hybri...  Ruh International   Heartly         3.59                   77          49.9     4.6    fulfilled_by_amazon  Heartly Kickstand Hard Dual Rugged Armor Hybri...                    Y   698934 -0.387184\n",
       "2  B00JYKGFWY  iPhone 6 Case, LUVVITT® ULTRA ARMOR iPhone 6 C...         HelloYehlo   Luvvitt        47.45                   34          68.0     4.6  fulfilled_by_merchant  iPhone 6 Case, LUVVITT® ULTRA ARMOR iPhone 6 C...                    N  3181968  2.387965\n",
       "3  B00LPC3O3M  Verbatim Bravo Wired Notebook Optical Mouse, B...              G. G.  Verbatim        15.50                   52          90.7     4.2  fulfilled_by_merchant  Verbatim Bravo Wired Notebook Optical Mouse, B...                    N   156041  0.366396\n",
       "4  B07BV5K9TV  Aarfa Slimfit Durable Printed Hard Case for Xi...           arretail     Aarfa         3.58                   70          49.9     3.9  fulfilled_by_merchant  Aarfa Slimfit Durable Printed Hard Case for Xi...                    Y   373349 -0.387817"
      ]
     },
     "execution_count": 56,
     "metadata": {},
     "output_type": "execute_result"
    }
   ],
   "source": [
    "df_elec.head()"
   ]
  },
  {
   "cell_type": "code",
   "execution_count": 57,
   "id": "0d352144",
   "metadata": {},
   "outputs": [],
   "source": [
    "#adding the df to a csv file without the index values\n",
    "df_elec.to_csv('amazon_data_cleaned.csv', index=False)"
   ]
  }
 ],
 "metadata": {
  "kernelspec": {
   "display_name": "Python 3 (ipykernel)",
   "language": "python",
   "name": "python3"
  },
  "language_info": {
   "codemirror_mode": {
    "name": "ipython",
    "version": 3
   },
   "file_extension": ".py",
   "mimetype": "text/x-python",
   "name": "python",
   "nbconvert_exporter": "python",
   "pygments_lexer": "ipython3",
   "version": "3.10.2"
  }
 },
 "nbformat": 4,
 "nbformat_minor": 5
}
